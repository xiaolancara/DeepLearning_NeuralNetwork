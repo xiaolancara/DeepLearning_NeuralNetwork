{
 "cells": [
  {
   "cell_type": "markdown",
   "id": "f8ee69b3-a9ec-4cba-b409-bca5be21b781",
   "metadata": {},
   "source": [
    "# NNDL problem set 3\n",
    "\n",
    "Author: Xiaolan Li"
   ]
  },
  {
   "cell_type": "code",
   "execution_count": 1,
   "id": "a71a1154-9daa-4d61-b806-9571efd7163d",
   "metadata": {},
   "outputs": [],
   "source": [
    "import numpy as np\n",
    "import pandas as pd\n",
    "from sklearn.utils import shuffle\n",
    "import matplotlib.pyplot as plt"
   ]
  },
  {
   "cell_type": "code",
   "execution_count": 2,
   "id": "29b54d3b-e23d-42a8-937e-2a5bafa9cb94",
   "metadata": {},
   "outputs": [],
   "source": [
    "def append(vector):\n",
    "    bias_unit = np.ones((vector.shape[0], 1), dtype=int)\n",
    "    return np.append(vector, bias_unit, axis=1)\n",
    "\n",
    "def layer_weights(n_inputs,n_neurons):\n",
    "    # set random range between -0.5 to 0.5 for weights\n",
    "    np.random.seed(1)\n",
    "    return np.random.uniform(-0.5, 0.5, (n_inputs,n_neurons))\n",
    "\n",
    "def forward(inputs, weights):\n",
    "     return np.dot(inputs, weights)\n",
    "\n",
    "def sigmoid(raw):\n",
    "    activated = 1 / (1 + np.exp(-raw))\n",
    "    return activated\n",
    "\n",
    "def loss(Oactivated, target):\n",
    "    return 0.5 * np.sum(np.dot((Oactivated - target).T, (Oactivated-target)))\n",
    "\n",
    "def E_Wjk(Oactivated, target, Thid):      \n",
    "    return Thid.T @ ((Oactivated - target) * (Oactivated * (1 - Oactivated)))\n",
    "    \n",
    "def E_biasO(Oactivated, target):\n",
    "    return np.sum((Oactivated - target) * Oactivated * (1 - Oactivated), axis=0, keepdims=True)\n",
    "    \n",
    "def E_Wij(Oactivated, target, Wjk, Thid, inputs):\n",
    "    E_Thid = ((Oactivated - target) * Oactivated * (1 - Oactivated)) @ Wjk.T #shape is (len(data),7)\n",
    "    return inputs.T @ (E_Thid * Thid * (1 - Thid))\n",
    "\n",
    "def E_biasH(Oactivated, Wjk, Thid, target):\n",
    "    E_Thid = ((Oactivated - target) * Oactivated * (1 - Oactivated)) @ Wjk.T\n",
    "    return np.sum(E_Thid * Thid * (1 - Thid), axis=0, keepdims=True)"
   ]
  },
  {
   "cell_type": "code",
   "execution_count": 3,
   "id": "dc55d85d-6937-4617-a11b-4e7a8c4f1c62",
   "metadata": {
    "tags": []
   },
   "outputs": [],
   "source": [
    "# read dataset seeds\n",
    "data = pd.read_csv('seeds_dataset.txt', sep='\\t', header= None)\n",
    "# normalize the data before training\n",
    "data.iloc[:,:-1] = data.iloc[:,:-1].apply(lambda x: (x - x.min()) / (x.max() - x.min()))\n",
    "# shuffle the dataset to avoid missing learning\n",
    "seeds_data = shuffle(data)\n",
    "inputs_orig = np.array(seeds_data)[:, :-1]\n",
    "target_orig = np.array(seeds_data)[:, -1].astype(int)\n",
    "\n",
    "# true one-hot encodings for the target\n",
    "target = []\n",
    "for n in target_orig:\n",
    "    if n == 1:\n",
    "        target.append([1,0,0])\n",
    "    elif n == 2:\n",
    "        target.append([0,1,0])\n",
    "    elif n == 3:\n",
    "        target.append([0,0,1])\n",
    "    else:\n",
    "        print('detected invalid target: ', n)\n",
    "target = np.array(target)"
   ]
  },
  {
   "cell_type": "code",
   "execution_count": 4,
   "id": "0c049b2f-b5a5-4c0e-be5f-4dd89fa7b829",
   "metadata": {},
   "outputs": [
    {
     "name": "stdout",
     "output_type": "stream",
     "text": [
      "[[0.15769594 0.24586777 0.22867514 0.2865991  0.14468995 0.51891196\n",
      "  0.41408173]\n",
      " [0.17941454 0.21694215 0.52359347 0.20720721 0.24019957 0.47535399\n",
      "  0.23781388]\n",
      " [0.1680831  0.21900826 0.44101633 0.17173423 0.23521026 0.41008205\n",
      "  0.23732152]\n",
      " [0.30122757 0.34090909 0.61524501 0.32657658 0.37491091 0.30827341\n",
      "  0.17380601]\n",
      " [0.0727101  0.1322314  0.27313975 0.15540541 0.0890948  0.42685511\n",
      "  0.36632201]]\n",
      "[[0 0 1]\n",
      " [0 0 1]\n",
      " [0 0 1]\n",
      " [1 0 0]\n",
      " [0 0 1]]\n"
     ]
    }
   ],
   "source": [
    "# split train and test data to 7:3\n",
    "split_pos = int(len(inputs_orig)*0.7)\n",
    "train_input = inputs_orig[:split_pos]\n",
    "test_input = inputs_orig[split_pos:]\n",
    "\n",
    "train_target = target[:split_pos]\n",
    "test_target = target[split_pos:]\n",
    "\n",
    "# print 5 samples\n",
    "print(train_input[:5])\n",
    "print(train_target[:5])"
   ]
  },
  {
   "cell_type": "code",
   "execution_count": 5,
   "id": "2467896a-ec93-48e3-a806-a64603c01371",
   "metadata": {},
   "outputs": [],
   "source": [
    "def train(inputs_orig, target, layer_neurons=[7,7,3], n_epochs=1000, learning_rate=0.05):\n",
    "    # input > hidden\n",
    "    inputs = inputs_orig\n",
    "    n_inputs_neurons, n_hidden_neurons, n_output_neurons = layer_neurons\n",
    "    \n",
    "    # define initail weights and bias for three layers network\n",
    "    W_inputs = layer_weights(n_inputs_neurons, n_hidden_neurons)\n",
    "    W_hidden = layer_weights(n_hidden_neurons, n_output_neurons)\n",
    "\n",
    "    biasH = layer_weights(1, n_hidden_neurons)\n",
    "    biasO = layer_weights(1, n_output_neurons)\n",
    "\n",
    "    print(f'The initial input weights:\\n{W_inputs}\\n')\n",
    "    print(f'The initial hidden weights:\\n{W_hidden}\\n')\n",
    "    print(f'The initial hidden bias:{biasH}')\n",
    "    print(f'The initial output bias:{biasO}')\n",
    "    \n",
    "    # start training in neural network\n",
    "    errors = []\n",
    "    for epoch in range(n_epochs):\n",
    "        # forward\n",
    "        # inputs > hidden\n",
    "        hidden_activated = sigmoid(forward(inputs, W_inputs) + biasH) \n",
    "\n",
    "        # hidden > output        \n",
    "        output_activated = sigmoid(forward(hidden_activated, W_hidden) + biasO)\n",
    "        error = loss(output_activated, target)\n",
    "        errors.append(error)\n",
    "\n",
    "        # back\n",
    "        # update weights (Here using -=, so E_Wjk and E_Wij function has to use O_act - target instead of reverse, using target - O_act when +=)\n",
    "        W_hidden -= E_Wjk(output_activated, target, hidden_activated) * learning_rate\n",
    "        W_inputs -= E_Wij(output_activated, target, W_hidden, hidden_activated, inputs) * learning_rate\n",
    "\n",
    "        # update bias\n",
    "        biasO -= E_biasO(output_activated, target) * learning_rate\n",
    "        biasH -= E_biasH(output_activated, W_hidden, hidden_activated, target) * learning_rate\n",
    "\n",
    "    # print the updated weights and bias \n",
    "    print(f'After {n_epochs} ephos gradient')\n",
    "    print(f'Updated inputs weights:\\n {W_inputs} \\n')\n",
    "    print(f'Updated hidden weights:\\n {W_hidden} \\n')\n",
    "    print(f'Updated hidden bias:{biasH}')\n",
    "    print(f'Updated output bias:{biasO}')\n",
    "\n",
    "    # plot the errors vs epochs\n",
    "    plt.plot(np.arange(n_epochs), errors)\n",
    "    plt.xlabel('n_epochs')\n",
    "    plt.ylabel('error')\n",
    "    return W_inputs, W_hidden, biasH, biasO"
   ]
  },
  {
   "cell_type": "code",
   "execution_count": 6,
   "id": "4a2cfa71-1463-498e-9128-adfbac7c369a",
   "metadata": {},
   "outputs": [
    {
     "name": "stdout",
     "output_type": "stream",
     "text": [
      "The initial input weights:\n",
      "[[-0.082978    0.22032449 -0.49988563 -0.19766743 -0.35324411 -0.40766141\n",
      "  -0.31373979]\n",
      " [-0.15443927 -0.10323253  0.03881673 -0.08080549  0.1852195  -0.29554775\n",
      "   0.37811744]\n",
      " [-0.47261241  0.17046751 -0.0826952   0.05868983 -0.35961306 -0.30189851\n",
      "   0.30074457]\n",
      " [ 0.46826158 -0.18657582  0.19232262  0.37638915  0.39460666 -0.41495579\n",
      "  -0.46094522]\n",
      " [-0.33016958  0.3781425  -0.40165317 -0.07889237  0.45788953  0.03316528\n",
      "   0.19187711]\n",
      " [-0.18448437  0.18650093  0.33462567 -0.48171172  0.25014431  0.48886109\n",
      "   0.24816565]\n",
      " [-0.21955601  0.28927933 -0.39677399 -0.05210647  0.4085955  -0.20638585\n",
      "  -0.21222466]]\n",
      "\n",
      "The initial hidden weights:\n",
      "[[-0.082978    0.22032449 -0.49988563]\n",
      " [-0.19766743 -0.35324411 -0.40766141]\n",
      " [-0.31373979 -0.15443927 -0.10323253]\n",
      " [ 0.03881673 -0.08080549  0.1852195 ]\n",
      " [-0.29554775  0.37811744 -0.47261241]\n",
      " [ 0.17046751 -0.0826952   0.05868983]\n",
      " [-0.35961306 -0.30189851  0.30074457]]\n",
      "\n",
      "The initial hidden bias:[[-0.082978    0.22032449 -0.49988563 -0.19766743 -0.35324411 -0.40766141\n",
      "  -0.31373979]]\n",
      "The initial output bias:[[-0.082978    0.22032449 -0.49988563]]\n",
      "After 1000 ephos gradient\n",
      "Updated inputs weights:\n",
      " [[ 0.48120339  0.37532889 -2.80429995 -0.14931335  2.83864747 -2.7343137\n",
      "  -2.97375489]\n",
      " [ 0.5381212   0.04366863 -2.38448724  0.74304034  2.7498283  -2.74512166\n",
      "  -2.46356902]\n",
      " [-0.43666994  0.31569301 -0.52157437 -0.40015642 -2.63187296 -0.40924647\n",
      "   0.31441288]\n",
      " [ 1.17853766 -0.15976412 -1.72558308  2.66959995  0.4106771  -2.32934436\n",
      "  -2.81203879]\n",
      " [ 0.17307299  0.63013347 -2.50072022  0.35690147  1.97841883 -1.99701351\n",
      "  -2.1014225 ]\n",
      " [-0.91027939 -1.00414104  3.06313372 -1.50577757  0.65508542  2.91476796\n",
      "   2.59293903]\n",
      " [-2.46265046 -2.19348641  3.3598698  -6.33819349  7.53788485  3.69887604\n",
      "   3.25964997]] \n",
      "\n",
      "Updated hidden weights:\n",
      " [[ 1.80307387 -0.39542491 -2.58884175]\n",
      " [ 0.63999811 -0.90576913 -2.65189951]\n",
      " [-3.98345942 -1.5536098   3.76710642]\n",
      " [ 5.86981396 -5.17495268 -3.15811857]\n",
      " [-8.09660211  7.98457605 -1.99366635]\n",
      " [-3.96090875 -1.85070725  4.36335908]\n",
      " [-4.1324598  -1.99298851  3.8139609 ]] \n",
      "\n",
      "Updated hidden bias:[[ 0.44937398  0.26738163 -0.07378318  1.74510801 -7.22608723  0.10808564\n",
      "   0.38683102]]\n",
      "Updated output bias:[[ 1.23657942 -0.51321148 -1.25530096]]\n"
     ]
    },
    {
     "data": {
      "image/png": "[encoded data removed]",
      "text/plain": [
       "<Figure size 432x288 with 1 Axes>"
      ]
     },
     "metadata": {
      "needs_background": "light"
     },
     "output_type": "display_data"
    }
   ],
   "source": [
    "W_inputs, W_hidden, biasH, biasO = train(train_input, train_target)"
   ]
  },
  {
   "cell_type": "code",
   "execution_count": 7,
   "id": "0bec32c1-60e3-4ce1-91aa-21bbe2671558",
   "metadata": {},
   "outputs": [
    {
     "data": {
      "text/plain": [
       "array([[0.996, 0.021, 0.001],\n",
       "       [0.009, 0.997, 0.003],\n",
       "       [0.024, 0.002, 0.965],\n",
       "       [0.009, 0.839, 0.172],\n",
       "       [0.993, 0.005, 0.009],\n",
       "       [0.93 , 0.004, 0.073],\n",
       "       [0.093, 0.955, 0.004],\n",
       "       [0.006, 0.998, 0.005],\n",
       "       [0.003, 0.998, 0.01 ],\n",
       "       [0.995, 0.004, 0.006],\n",
       "       [0.973, 0.01 , 0.022],\n",
       "       [0.829, 0.078, 0.039],\n",
       "       [0.013, 0.994, 0.005],\n",
       "       [0.001, 0.001, 0.999],\n",
       "       [0.027, 0.002, 0.966],\n",
       "       [0.982, 0.029, 0.007],\n",
       "       [0.029, 0.001, 0.964],\n",
       "       [0.991, 0.014, 0.007],\n",
       "       [0.023, 0.945, 0.024],\n",
       "       [0.013, 0.001, 0.982],\n",
       "       [0.027, 0.994, 0.001],\n",
       "       [0.013, 0.001, 0.985],\n",
       "       [0.999, 0.004, 0.001],\n",
       "       [0.033, 0.977, 0.006],\n",
       "       [0.36 , 0.002, 0.645],\n",
       "       [0.067, 0.001, 0.935],\n",
       "       [0.917, 0.226, 0.003],\n",
       "       [0.714, 0.002, 0.299],\n",
       "       [0.979, 0.002, 0.034],\n",
       "       [0.018, 0.99 , 0.006],\n",
       "       [0.986, 0.002, 0.018],\n",
       "       [0.982, 0.008, 0.016],\n",
       "       [0.008, 0.996, 0.005],\n",
       "       [0.016, 0.974, 0.015],\n",
       "       [0.003, 0.998, 0.011],\n",
       "       [0.959, 0.002, 0.048],\n",
       "       [0.995, 0.002, 0.007],\n",
       "       [0.009, 0.001, 0.99 ],\n",
       "       [0.009, 0.997, 0.003],\n",
       "       [0.012, 0.993, 0.007],\n",
       "       [0.996, 0.002, 0.006],\n",
       "       [0.038, 0.967, 0.009],\n",
       "       [0.014, 0.001, 0.986],\n",
       "       [0.967, 0.01 , 0.027],\n",
       "       [0.031, 0.   , 0.973],\n",
       "       [0.995, 0.002, 0.008],\n",
       "       [0.99 , 0.013, 0.007],\n",
       "       [0.001, 0.001, 0.999],\n",
       "       [0.992, 0.003, 0.011],\n",
       "       [0.017, 0.994, 0.003],\n",
       "       [0.934, 0.007, 0.059],\n",
       "       [0.029, 0.991, 0.002],\n",
       "       [0.904, 0.007, 0.084],\n",
       "       [0.004, 0.998, 0.007],\n",
       "       [0.065, 0.979, 0.002],\n",
       "       [0.014, 0.996, 0.002],\n",
       "       [0.989, 0.021, 0.006],\n",
       "       [0.996, 0.004, 0.005],\n",
       "       [0.01 , 0.001, 0.991],\n",
       "       [0.005, 0.998, 0.006],\n",
       "       [0.905, 0.039, 0.027],\n",
       "       [0.069, 0.001, 0.933],\n",
       "       [0.968, 0.021, 0.017]])"
      ]
     },
     "execution_count": 7,
     "metadata": {},
     "output_type": "execute_result"
    }
   ],
   "source": [
    "# predict\n",
    "hidden_activated = sigmoid(forward(test_input, W_inputs) + biasH)\n",
    "output_activated = sigmoid(forward(hidden_activated, W_hidden) + biasO)\n",
    "np.round(output_activated,3)"
   ]
  },
  {
   "cell_type": "code",
   "execution_count": 8,
   "id": "40e9518f-ee27-42c1-8cb1-320097f0b5b2",
   "metadata": {},
   "outputs": [
    {
     "data": {
      "text/plain": [
       "0.9206349206349206"
      ]
     },
     "execution_count": 8,
     "metadata": {},
     "output_type": "execute_result"
    }
   ],
   "source": [
    "# prediction and accuracy\n",
    "y_pred = np.argmax(output_activated, axis=1) \n",
    "y_target = np.argmax(test_target, axis=1)\n",
    "res = y_pred == y_target\n",
    "accuracy = np.sum(res)/len(res)\n",
    "accuracy"
   ]
  },
  {
   "cell_type": "code",
   "execution_count": null,
   "id": "2adee663-0949-48e9-b081-060b3f4dacaa",
   "metadata": {},
   "outputs": [],
   "source": []
  },
  {
   "cell_type": "code",
   "execution_count": null,
   "id": "53bfe912-5a74-4d4e-b241-133d51fd8d43",
   "metadata": {},
   "outputs": [],
   "source": []
  }
 ],
 "metadata": {
  "kernelspec": {
   "display_name": "Python 3",
   "language": "python",
   "name": "python3"
  },
  "language_info": {
   "codemirror_mode": {
    "name": "ipython",
    "version": 3
   },
   "file_extension": ".py",
   "mimetype": "text/x-python",
   "name": "python",
   "nbconvert_exporter": "python",
   "pygments_lexer": "ipython3",
   "version": "3.8.8"
  }
 },
 "nbformat": 4,
 "nbformat_minor": 5
}
